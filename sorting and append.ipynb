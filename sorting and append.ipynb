{
 "cells": [
  {
   "cell_type": "code",
   "execution_count": null,
   "metadata": {},
   "outputs": [],
   "source": [
    "import pandas as pd\n",
    "import numpy as np\n",
    "import warnings\n",
    "warnings.filterwarnings(\"ignore\")"
   ]
  },
  {
   "cell_type": "code",
   "execution_count": null,
   "metadata": {},
   "outputs": [],
   "source": [
    "sp21 = pd.read_csv(\"LCK 2021 Spring.csv\")\n",
    "msp21 = pd.read_csv(\"2021_spring.csv\")\n",
    "sp21 = sp21[sp21['GP'] >= 10]\n"
   ]
  },
  {
   "cell_type": "code",
   "execution_count": null,
   "metadata": {},
   "outputs": [],
   "source": [
    "print(sp21.shape)\n",
    "print(msp21.shape)"
   ]
  },
  {
   "cell_type": "code",
   "execution_count": null,
   "metadata": {},
   "outputs": [],
   "source": [
    "exclude = ['Player', 'Team', 'Pos']\n",
    "incldue = [col for col in sp21.columns if col not in exclude]\n",
    "for cols in incldue:\n",
    "    for idx, val in sp21[cols].items():\n",
    "        if str(val).endswith(\"%\"):\n",
    "            sp21.at[idx, cols] = str(val.strip(\"%\"))\n",
    "\n",
    "sp21[incldue] = sp21[incldue].astype('float64')\n",
    "print(sp21.head(5))    "
   ]
  },
  {
   "cell_type": "code",
   "execution_count": null,
   "metadata": {},
   "outputs": [],
   "source": [
    "sp21 = sp21.sort_values(by=['KDA', 'K', 'D', 'A', 'DPM', 'GD10'])\n",
    "sp21"
   ]
  },
  {
   "cell_type": "code",
   "execution_count": null,
   "metadata": {},
   "outputs": [],
   "source": [
    "msp21 = msp21.sort_values(by=['KDA', 'K', 'D', 'A', 'DPM', 'GD10'])\n",
    "msp21"
   ]
  },
  {
   "cell_type": "code",
   "execution_count": null,
   "metadata": {},
   "outputs": [],
   "source": [
    "mnames = set(msp21.columns).intersection(set(sp21.columns))\n",
    "print(set(msp21) - mnames)"
   ]
  },
  {
   "cell_type": "code",
   "execution_count": null,
   "metadata": {},
   "outputs": [],
   "source": [
    "mvplist = msp21['MVP'].reset_index(drop=True)"
   ]
  },
  {
   "cell_type": "code",
   "execution_count": null,
   "metadata": {},
   "outputs": [],
   "source": [
    "mvplist"
   ]
  },
  {
   "cell_type": "code",
   "execution_count": null,
   "metadata": {},
   "outputs": [],
   "source": [
    "sp21 = sp21.reset_index(drop=True)\n",
    "sp21['MVP'] = mvplist\n",
    "sp21"
   ]
  },
  {
   "cell_type": "code",
   "execution_count": null,
   "metadata": {},
   "outputs": [],
   "source": []
  }
 ],
 "metadata": {
  "kernelspec": {
   "display_name": "base",
   "language": "python",
   "name": "python3"
  },
  "language_info": {
   "codemirror_mode": {
    "name": "ipython",
    "version": 3
   },
   "file_extension": ".py",
   "mimetype": "text/x-python",
   "name": "python",
   "nbconvert_exporter": "python",
   "pygments_lexer": "ipython3",
   "version": "3.9.13"
  },
  "orig_nbformat": 4,
  "vscode": {
   "interpreter": {
    "hash": "d7c46f30ffc0ccba8cc2afcfb8c5ea880eef7da12fdeb64fae7609d603d30008"
   }
  }
 },
 "nbformat": 4,
 "nbformat_minor": 2
}
